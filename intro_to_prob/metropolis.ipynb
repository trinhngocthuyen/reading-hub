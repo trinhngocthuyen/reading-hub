{
 "cells": [
  {
   "cell_type": "markdown",
   "metadata": {},
   "source": [
    "# Intro to Probability\n",
    "https://www.amazon.com/Introduction-Probability-Chapman-Statistical-Science/dp/1466575573\n",
    "\n",
    "## Chap 12. Markov Chain Monte Carlo (MCMC)"
   ]
  },
  {
   "cell_type": "code",
   "execution_count": 1,
   "metadata": {},
   "outputs": [],
   "source": [
    "import numpy as np\n",
    "import matplotlib.pyplot as plt\n",
    "import math\n",
    "\n",
    "plt.style.use('seaborn')"
   ]
  },
  {
   "cell_type": "code",
   "execution_count": 2,
   "metadata": {},
   "outputs": [
    {
     "data": {
      "image/png": "[encoded data removed]",
      "text/plain": [
       "<Figure size 432x288 with 1 Axes>"
      ]
     },
     "metadata": {},
     "output_type": "display_data"
    }
   ],
   "source": [
    "from scipy.stats import beta\n",
    "\n",
    "x = np.linspace(0, 1, num=100)\n",
    "plt.plot(x, beta.pdf(x, a=3, b=20))\n",
    "plt.show()"
   ]
  },
  {
   "cell_type": "code",
   "execution_count": 3,
   "metadata": {
    "scrolled": false
   },
   "outputs": [
    {
     "data": {
      "image/png": "[encoded data removed]",
      "text/plain": [
       "<Figure size 432x288 with 1 Axes>"
      ]
     },
     "metadata": {},
     "output_type": "display_data"
    }
   ],
   "source": [
    "# Sampling using a built-in tool: `np.random`\n",
    "\n",
    "x = np.random.beta(3, 20, size=10000)\n",
    "plt.hist(x, bins=100, histtype='stepfilled', density=True)\n",
    "plt.show()"
   ]
  },
  {
   "cell_type": "code",
   "execution_count": 4,
   "metadata": {},
   "outputs": [],
   "source": [
    "# Sampling using Metropolis-Hastings\n",
    "from scipy.stats import norm\n",
    "from scipy.stats import uniform\n",
    "\n",
    "cache_denominator = {}\n",
    "def gamma(n):\n",
    "    return math.factorial(n - 1)\n",
    "\n",
    "def f_beta(x, a, b):\n",
    "    nominator = np.power(x, a - 1) * np.power(1 - x, b - 1)\n",
    "    denominator = cache_denominator.get((a, b))\n",
    "    if not denominator:\n",
    "        denominator = gamma(a) * gamma(b) / gamma(a + b)\n",
    "        cache_denominator[(a, b)] = denominator\n",
    "    return nominator / denominator\n",
    "\n",
    "def proposal_dist(x, prev):\n",
    "    #return norm.pdf(x=x, loc=prev)\n",
    "    return uniform.pdf(x)\n",
    "\n",
    "def sample_from_proposal_dist(prev):\n",
    "    #return np.random.normal(loc=prev)\n",
    "    return np.random.uniform()\n",
    "\n",
    "def sample(a, b, n_iterations=1000):\n",
    "    trace = {}\n",
    "    samples = np.zeros(n_iterations)\n",
    "    acceptance_probs = np.zeros(n_iterations)\n",
    "    prev = np.random.uniform() # Initial value\n",
    "    for i in range(n_iterations):\n",
    "        # 1. Random from proposal distribution\n",
    "        x = sample_from_proposal_dist(prev)\n",
    "        \n",
    "        # 2. Calculate acceptance probability\n",
    "        acceptance_prob = min(1, f_beta(x, a, b) / f_beta(prev, a, b))\n",
    "        #acceptance_prob = min(1, (f_beta(x, a, b) / f_beta(prev, a, b)) * (proposal_dist(prev, x) / proposal_dist(x, prev)))\n",
    "        \n",
    "        # 3. Accept or reject\n",
    "        prev = x if np.random.uniform() <= acceptance_prob else prev\n",
    "\n",
    "        samples[i] = prev\n",
    "        acceptance_probs[i] = acceptance_prob\n",
    "    \n",
    "    trace['samples'] = samples\n",
    "    trace['acceptance_probs'] = acceptance_probs\n",
    "    return trace"
   ]
  },
  {
   "cell_type": "code",
   "execution_count": 5,
   "metadata": {
    "scrolled": false
   },
   "outputs": [
    {
     "data": {
      "image/png": "[encoded data removed]",
      "text/plain": [
       "<Figure size 432x288 with 1 Axes>"
      ]
     },
     "metadata": {},
     "output_type": "display_data"
    }
   ],
   "source": [
    "trace = sample(3, 20, n_iterations=5000)\n",
    "samples = trace['samples']\n",
    "plt.hist(samples, bins=100, histtype='stepfilled', density=True)\n",
    "plt.show()"
   ]
  },
  {
   "cell_type": "code",
   "execution_count": 6,
   "metadata": {},
   "outputs": [
    {
     "data": {
      "image/png": "[encoded data removed]",
      "text/plain": [
       "<Figure size 432x288 with 1 Axes>"
      ]
     },
     "metadata": {},
     "output_type": "display_data"
    }
   ],
   "source": [
    "acceptance_probs = trace['acceptance_probs']\n",
    "plt.plot(acceptance_probs)\n",
    "plt.gca().set_ylim((0, 1))\n",
    "plt.show()"
   ]
  },
  {
   "cell_type": "code",
   "execution_count": null,
   "metadata": {},
   "outputs": [],
   "source": []
  }
 ],
 "metadata": {
  "kernelspec": {
   "display_name": "Python 3",
   "language": "python",
   "name": "python3"
  },
  "language_info": {
   "codemirror_mode": {
    "name": "ipython",
    "version": 3
   },
   "file_extension": ".py",
   "mimetype": "text/x-python",
   "name": "python",
   "nbconvert_exporter": "python",
   "pygments_lexer": "ipython3",
   "version": "3.6.4"
  }
 },
 "nbformat": 4,
 "nbformat_minor": 2
}
