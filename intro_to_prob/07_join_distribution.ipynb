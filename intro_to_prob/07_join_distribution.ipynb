{
 "cells": [
  {
   "cell_type": "markdown",
   "metadata": {},
   "source": [
    "# Intro to Probability\n",
    "https://www.amazon.com/Introduction-Probability-Chapman-Statistical-Science/dp/1466575573\n",
    "\n",
    "## Chap 7. Join Distributions"
   ]
  },
  {
   "cell_type": "markdown",
   "metadata": {},
   "source": [
    "### Terms/Highlights\n",
    "- Join distributions are used to describe *multiple random variables*.\n",
    "- **Join CDF**:\n",
    "  - $F_{X,Y}(x, y) = P(X \\le x, Y \\le y)$\n",
    "  \n",
    "- **Marginal distribution**:\n",
    "  - Used to view individually a random variable (marginalizing out others)\n",
    "  - Discrete: $P(X = x) = \\sum_y P(X = x, Y = y)$. P/s: you know how to infer the corresponding form of continuous rvs\n",
    "\n",
    "- A very good application of join distributions is comparing two random variables. For example, find $P(T_1 < T_2)$. With a well-expressed form, we could calculate it by taking the integral:\n",
    "$$P(T_1 < T_2) = \\int_{-\\infty}^{+\\infty} \\int_{-\\infty}^{t_2} f_{T_1, T_2}(t_1, t_2)\\; dt_1 dt_2$$\n",
    "\n",
    "- **Cauchy distribution**: (just mentioned as an example, but worth knowing)\n",
    "  - $X, Y$ are i.i.d $N(0, 1)$. Then the distribution of $T=X/Y$ is called Cauchy distribution\n",
    "  - The transformation in page 295 is really impressive. Mind blowing :)\n",
    "\n",
    "- **2D LOTUS**\n",
    "  - Discrete: $E(g(X, Y)) = \\sum_x\\sum_y g(x, y) P(X = x, Y = y)$. Like 1D LOTUS, we don't need to determine the distribution of $g(X, Y)$.\n",
    "  - Minor technique to broke the absolute value in the integral: broke it up into different parts"
   ]
  },
  {
   "cell_type": "markdown",
   "metadata": {},
   "source": [
    "- **Covariance**:\n",
    "  - $Cov(X, Y) = E((X - EX)(Y - EY))\\\\= E(XY) - E(X)E(Y)$\n",
    "  - Positive covariance: $X$, and $Y$ tend to move in the same direction. Negative covariance: opposite direction.\n",
    "  - Zero covariance: **uncorrelated**.\n",
    "  - Independence $\\implies$ uncorrelated. Note: uncorrelated does not imply independence.\n",
    "  - Covariance is a measure of *linear association*.\n",
    "\n",
    "- **Correlation**:\n",
    "  - $Corr(X, Y) = \\frac{Cov(X, Y)}{\\sqrt{Var(X) Var(Y)}}$\n",
    "  - Correlation is bounded: $-1 \\le Corr(X, Y) \\le 1$\n",
    "  - Correlation is not affected by shifting and scaling, ie. $Corr(aX + b, Y) = Corr(X, Y)$\n",
    "      "
   ]
  },
  {
   "cell_type": "markdown",
   "metadata": {
    "collapsed": true
   },
   "source": [
    "- **Multinomial** (Generalization of Binomial)\n",
    "  - *Story*: Each of $n$ objects is independently placed into $k$ categories (with probability $p_j$ for category $j$). Let $X_j$ be the number of objects in category $j$. Then $X = (X_1, ..., X_n)$ is said to have the *Multinomial distribution* with parameters $n$ and $p = (p_1, ..., p_n)$.\n",
    "  - Notation: $X \\sim Mult_k(n, p)$\n",
    "  - $X$ is called a *random vector* (vector of random variables).\n",
    "  - Join PMF: $$P(X_1 = n_1, ..., X_k = n_k) = \\frac{n!}{n_1!n_2!...n_k!} p_1^{n_1} p_2^{n_2} ... p_k^{n_k}$$\n",
    "  where $n = n_1 + n_2 + ... + n_k$\n",
    "  - Marginal PMF: If $X \\sim Mult_k(n, p)$, then $X_j \\sim Bin(n, p_j)$\n",
    "  - Conditioning: If $(X_2, ..., X_k)|X_j$ also has Multinomial distribution.\n",
    "\n",
    "- **Multivariate Normal** (MVN)\n",
    "  - $X = (X_1, X_2, ..., X_n)$ is said to have a MVN distribution of every linear combination of $X_j$, ie. $t_1 X_1 + ... + t_n X_n$, has a Normal distribution.\n",
    "  - $n = 2$ --> *Bivariate Normal* (BVN).\n",
    "  - MVNs can be produced from old MVNs using *subsetting* and *concatenation*.\n",
    "  - Within a MVN random vector, *uncorrelated* $\\implies$ *independent*."
   ]
  },
  {
   "cell_type": "code",
   "execution_count": null,
   "metadata": {
    "collapsed": true
   },
   "outputs": [],
   "source": []
  }
 ],
 "metadata": {
  "kernelspec": {
   "display_name": "R",
   "language": "R",
   "name": "ir"
  },
  "language_info": {
   "codemirror_mode": "r",
   "file_extension": ".r",
   "mimetype": "text/x-r-source",
   "name": "R",
   "pygments_lexer": "r",
   "version": "3.4.1"
  }
 },
 "nbformat": 4,
 "nbformat_minor": 2
}
