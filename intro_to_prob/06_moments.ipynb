{
 "cells": [
  {
   "cell_type": "markdown",
   "metadata": {},
   "source": [
    "# Intro to Probability\n",
    "https://www.amazon.com/Introduction-Probability-Chapman-Statistical-Science/dp/1466575573\n",
    "\n",
    "## Chap 6. Moments"
   ]
  },
  {
   "cell_type": "markdown",
   "metadata": {},
   "source": [
    "### Terms/Highlights\n",
    "- If 2 normal distributions have the same values of $(\\mu, \\sigma^2)$. They are not necessarily the same (or even alike). In general, there could exist 2 different distributions that pretty differ each other but have the same parameters.\n",
    "\n",
    "- **Moments** are useful to describe what a distribution looks like including: mean, variance, symmetry, skewness, tails...\n",
    "  - *n*th ***moment***: $E(X^n)$\n",
    "  - *n*th ***central moment***: $E((X - \\mu)^n)$\n",
    "  - *n*th ***standardized moment***: $E\\left(\\left(\\frac{X - \\mu}{\\sigma}\\right)^n\\right)$\n",
    "\n",
    "- Usually use the first 4 moments:\n",
    "  - $E(X)$ = *1st moment*\n",
    "  - $Var(X) = E(X - \\mu)^2$ $\\rightarrow$ *2nd central moment*\n",
    "  - $Skew(X) = E\\left(\\frac{X - \\mu}{\\sigma}\\right)^3$ $\\rightarrow$ *3rd standardized moment*\n",
    "    - Describe the skewness of data\n",
    "    - $Skew(X) > 0$ means right-skewed\n",
    "  - $Kurt(X) = E\\left(\\frac{X = \\mu}{\\sigma}\\right)^4 - 3$ $\\rightarrow$ *4th standardized moment, (shifted)*\n",
    "    - Describe the tails of data\n",
    "    - Large $Kurt(X)$ means long tails\n",
    "\n",
    "- Looking at the PDF:\n",
    "  - **center**: the region $(\\mu - \\sigma, \\mu + \\sigma)$, within one standard deviation\n",
    "  - **shoulders**: the regions $(\\mu - 2\\sigma, \\mu - \\sigma)$ and $(\\mu + \\sigma, \\mu + 2\\sigma)$, from one standard deviation to 2 standard deviation\n",
    "  - **tails**: the regions $(-\\infty, \\mu - 2\\sigma)$ and $(\\mu + 2\\sigma, +\\infty)$, more than 2 standard deviations\n",
    "\n",
    "- Need to distinguish *sample parameters* from *population parameters*\n",
    "  - Sample mean: $\\bar{X}_n$, population mean: $\\mu$\n",
    "  - Law of large numbers: as $n \\to \\infty, \\bar{X}_n \\to \\mu$"
   ]
  },
  {
   "cell_type": "markdown",
   "metadata": {},
   "source": [
    "- **Moment generating function (MGF)** of a r.v $X$ is $M(t) = E(e^{tX})$. Condition: $M(t)$ must be finite on some open interval $(-a, a)$ containing 0.\n",
    "  - Motivation: computing $E(X^n)$ by LOTUS is exhausting. MGF offers a nicer approach.\n",
    "  - Not all r.v.s have an MGF.\n",
    "\n",
    "- 3 important theorems related to MGF:\n",
    "  - *Theorem 1.* **Moments** via MGF: take the *n*th derivative of MGF, at 0\n",
    "    - $E(X^n) = M^{(n)}(0)$\n",
    "  - *Theorem 2.* MGF determines distribution\n",
    "    - $MGF(X) = MGF(Y) \\implies X = Y$\n",
    "  - *Theorem 3.* MGF of sum independent r.v.s\n",
    "    - $M_{X+Y}(t) = M_X(t) M_Y(t)$, if $X$ and $Y$ are independent of each other\n",
    "\n",
    "- Generating moments with MGFs\n",
    "  - Common technique: *expand the MGF and match the expression by taylor series.*<br>\n",
    "  For ex, if $M(t) = \\frac{1}{1-t}$, then:\n",
    "  $M(t) = \\sum\\limits^\\infty_{n=0} t^n = \\sum\\limits^\\infty_{n=0} n! \\frac{t^n}{n!}$<br>\n",
    "  And by Taylor series, $M(t) = \\sum\\limits^\\infty_{n=0} E(X^n) \\frac{t^n}{n!}$.<br>\n",
    "  Matching coefficients $\\implies$ $E(X^n) = n!$\n",
    "\n",
    "- Even if the MGF does not exist, we could probably obtain the moments. Computing Log-Normal moments is an example."
   ]
  },
  {
   "cell_type": "markdown",
   "metadata": {},
   "source": [
    "- **Probability generating function (MGF)** \n",
    "  - For non-negative integer-valued r.v X\n",
    "  - Given by $E(t^X)$\n",
    "- Relationship between PGF and MGF:\n",
    "  - $E(t^X) = E(e^{X \\log t})$, PGF is the MGF evaluated at $\\log t$\n",
    "  - Example of using PGF: generting dice probabilities (roll 6 dice, what is the prob. that the total values on all dice equal 18 = ?)\n",
    "\n",
    "- PGF determines the distribution\n",
    "- Recover distribution from the PGF $g_X(t)$ by $p_k = P(X=k) = \\frac{g_X^{(k)}(0)}{k!}$"
   ]
  },
  {
   "cell_type": "markdown",
   "metadata": {},
   "source": [
    "### Programming (R)\n",
    "- **curve**: for plots\n",
    "- **integrate**: to calculate integrals\n",
    "- **dnorm/rnorm/qnorm**: normal distribution\n",
    "  - *dnorm*: PDF\n",
    "  - *pnorm*: CDF\n",
    "  - *rnorm*: sampling function\n",
    "  - *qnorm*: to compute quantile (compute $x$ where $P(X \\le x) = a$)\n",
    "  - The same convention applies to other distribution. For example, *pexp* refers to the CDF of the Exponential distribution.\n",
    "- **uniroot**: find ONE root of a function (ie. find $x$ such that $f(x) = 0$). Note: only one root (if exists) will be found\n",
    "- **optimize**: compute the maximum/minimum of a function over an interval\n",
    "- **which/which.max/which.min**: find the first index that matches a condition"
   ]
  },
  {
   "cell_type": "code",
   "execution_count": 1,
   "metadata": {},
   "outputs": [],
   "source": [
    "library(repr)\n",
    "\n",
    "figsize <- function(w, h) { options(repr.plot.width=w, repr.plot.height=h) }"
   ]
  },
  {
   "cell_type": "code",
   "execution_count": 2,
   "metadata": {
    "collapsed": true
   },
   "outputs": [],
   "source": [
    "# Declare a function\n",
    "M <- function(t) { exp(t^2/2) }"
   ]
  },
  {
   "cell_type": "code",
   "execution_count": 3,
   "metadata": {},
   "outputs": [
    {
     "data": {
      "image/png": "[encoded data removed]",
      "text/plain": [
       "plot without title"
      ]
     },
     "metadata": {},
     "output_type": "display_data"
    }
   ],
   "source": [
    "figsize(3, 3)\n",
    "curve(M, from=-3, to=3)"
   ]
  },
  {
   "cell_type": "code",
   "execution_count": 4,
   "metadata": {},
   "outputs": [
    {
     "data": {
      "text/plain": [
       "15 with absolute error < 7.9e-05"
      ]
     },
     "metadata": {},
     "output_type": "display_data"
    }
   ],
   "source": [
    "# Take the 6th moment of X ~ N(0, 1) by LOTUS\n",
    "g <- function(x) { x^6*dnorm(x) }\n",
    "integrate(g, lower=-Inf, upper=Inf)"
   ]
  },
  {
   "cell_type": "code",
   "execution_count": 5,
   "metadata": {},
   "outputs": [
    {
     "data": {
      "text/plain": [
       "0.3333333 with absolute error < 2.4e-08"
      ]
     },
     "metadata": {},
     "output_type": "display_data"
    }
   ],
   "source": [
    "# Take the 2nd moment of X ~ Uniform(0, 1) by LOTUS\n",
    "h <- function(x) { x^2*dunif(x) }\n",
    "integrate(h, lower=-Inf, upper=Inf)"
   ]
  },
  {
   "cell_type": "code",
   "execution_count": 6,
   "metadata": {
    "scrolled": false
   },
   "outputs": [
    {
     "data": {
      "text/html": [
       "56"
      ],
      "text/latex": [
       "56"
      ],
      "text/markdown": [
       "56"
      ],
      "text/plain": [
       "[1] 56"
      ]
     },
     "metadata": {},
     "output_type": "display_data"
    }
   ],
   "source": [
    "# Take the 2nd moment of X ~ Poisson(7) by LOTUS\n",
    "# NOTE: Poisson is for discrete r.v.s. So we cannot use integrate to compute the integral of it\n",
    "# Instead, we calculate the sum over a finite space that is sufficiently large\n",
    "g <- function(k) { k^2 * dpois(k, 7) }\n",
    "sum(g(0:1000))"
   ]
  },
  {
   "cell_type": "code",
   "execution_count": 7,
   "metadata": {},
   "outputs": [
    {
     "data": {
      "text/html": [
       "0.0136821612952039"
      ],
      "text/latex": [
       "0.0136821612952039"
      ],
      "text/markdown": [
       "0.0136821612952039"
      ],
      "text/plain": [
       "[1] 0.01368216"
      ]
     },
     "metadata": {},
     "output_type": "display_data"
    },
    {
     "data": {
      "text/html": [
       "0.999813189325496"
      ],
      "text/latex": [
       "0.999813189325496"
      ],
      "text/markdown": [
       "0.999813189325496"
      ],
      "text/plain": [
       "[1] 0.9998132"
      ]
     },
     "metadata": {},
     "output_type": "display_data"
    }
   ],
   "source": [
    "# Sampling data from Normal distribution and use the built-in functions: mean, var\n",
    "z <- rnorm(10000)\n",
    "mean(z)\n",
    "var(z)"
   ]
  },
  {
   "cell_type": "code",
   "execution_count": 8,
   "metadata": {},
   "outputs": [
    {
     "data": {
      "image/png": "[encoded data removed]",
      "text/plain": [
       "plot without title"
      ]
     },
     "metadata": {},
     "output_type": "display_data"
    }
   ],
   "source": [
    "# Distinguish 4 family functions: pnorm, dnorm, qnorm, rnorm\n",
    "figsize(12, 3); par(mfrow=c(1, 4))\n",
    "plot(dnorm, from=-2, to=2) # pdf\n",
    "plot(pnorm, from=-2, to=2) # cdf\n",
    "plot(qnorm, from= 0, to=1)\n",
    "plot(rnorm(n=100))"
   ]
  },
  {
   "cell_type": "code",
   "execution_count": 9,
   "metadata": {},
   "outputs": [
    {
     "data": {
      "text/html": [
       "0.00794328641444061"
      ],
      "text/latex": [
       "0.00794328641444061"
      ],
      "text/markdown": [
       "0.00794328641444061"
      ],
      "text/plain": [
       "[1] 0.007943286"
      ]
     },
     "metadata": {},
     "output_type": "display_data"
    },
    {
     "data": {
      "text/html": [
       "0.00109397203581896"
      ],
      "text/latex": [
       "0.00109397203581896"
      ],
      "text/markdown": [
       "0.00109397203581896"
      ],
      "text/plain": [
       "[1] 0.001093972"
      ]
     },
     "metadata": {},
     "output_type": "display_data"
    }
   ],
   "source": [
    "# Try implementing Skew, Kurt of Normal distribution\n",
    "skew <- function(x) {\n",
    "    centralmoment <- mean((x - mean(x))^3)\n",
    "    centralmoment/(sd(x)^3)\n",
    "}\n",
    "\n",
    "kurt <- function(x) {\n",
    "    centralmoment <- mean((x - mean(x))^4)\n",
    "    centralmoment/(sd(x)^4) - 3\n",
    "}\n",
    "\n",
    "# Expected: \n",
    "#  - Skew = 0 (b/c Normal distribution is symmetric)\n",
    "#  - Kurt = 0\n",
    "skew(z)\n",
    "kurt(z)"
   ]
  },
  {
   "cell_type": "code",
   "execution_count": 10,
   "metadata": {},
   "outputs": [
    {
     "data": {
      "text/html": [
       "<dl>\n",
       "\t<dt>$root</dt>\n",
       "\t\t<dd>0.693148181103152</dd>\n",
       "\t<dt>$f.root</dt>\n",
       "\t\t<dd>5.00271352898984e-07</dd>\n",
       "\t<dt>$iter</dt>\n",
       "\t\t<dd>5</dd>\n",
       "\t<dt>$init.it</dt>\n",
       "\t\t<dd>&lt;NA&gt;</dd>\n",
       "\t<dt>$estim.prec</dt>\n",
       "\t\t<dd>6.10351562503331e-05</dd>\n",
       "</dl>\n"
      ],
      "text/latex": [
       "\\begin{description}\n",
       "\\item[\\$root] 0.693148181103152\n",
       "\\item[\\$f.root] 5.00271352898984e-07\n",
       "\\item[\\$iter] 5\n",
       "\\item[\\$init.it] <NA>\n",
       "\\item[\\$estim.prec] 6.10351562503331e-05\n",
       "\\end{description}\n"
      ],
      "text/markdown": [
       "$root\n",
       ":   0.693148181103152\n",
       "$f.root\n",
       ":   5.00271352898984e-07\n",
       "$iter\n",
       ":   5\n",
       "$init.it\n",
       ":   &lt;NA&gt;\n",
       "$estim.prec\n",
       ":   6.10351562503331e-05\n",
       "\n",
       "\n"
      ],
      "text/plain": [
       "$root\n",
       "[1] 0.6931482\n",
       "\n",
       "$f.root\n",
       "[1] 5.002714e-07\n",
       "\n",
       "$iter\n",
       "[1] 5\n",
       "\n",
       "$init.it\n",
       "[1] NA\n",
       "\n",
       "$estim.prec\n",
       "[1] 6.103516e-05\n"
      ]
     },
     "metadata": {},
     "output_type": "display_data"
    }
   ],
   "source": [
    "# Take the median of Exponential by finding x such that cdf(x) = 1/2\n",
    "# Or, finding a root of cdf(x) - 1/2 = 0\n",
    "# Note: We know that \n",
    "g <- function(x) { pexp(x) - 1/2 }\n",
    "uniroot(g, lower=0, upper=1)"
   ]
  },
  {
   "cell_type": "code",
   "execution_count": 11,
   "metadata": {},
   "outputs": [
    {
     "data": {
      "text/html": [
       "0.693147180559945"
      ],
      "text/latex": [
       "0.693147180559945"
      ],
      "text/markdown": [
       "0.693147180559945"
      ],
      "text/plain": [
       "[1] 0.6931472"
      ]
     },
     "metadata": {},
     "output_type": "display_data"
    }
   ],
   "source": [
    "# Cleaner solution, using qexp()\n",
    "# The result above should equal qexp(1/2)\n",
    "qexp(1/2)"
   ]
  },
  {
   "cell_type": "code",
   "execution_count": 12,
   "metadata": {},
   "outputs": [
    {
     "data": {
      "text/html": [
       "<dl>\n",
       "\t<dt>$maximum</dt>\n",
       "\t\t<dd>5.00000572835102</dd>\n",
       "\t<dt>$objective</dt>\n",
       "\t\t<dd>21.056084372073</dd>\n",
       "</dl>\n"
      ],
      "text/latex": [
       "\\begin{description}\n",
       "\\item[\\$maximum] 5.00000572835102\n",
       "\\item[\\$objective] 21.056084372073\n",
       "\\end{description}\n"
      ],
      "text/markdown": [
       "$maximum\n",
       ":   5.00000572835102\n",
       "$objective\n",
       ":   21.056084372073\n",
       "\n",
       "\n"
      ],
      "text/plain": [
       "$maximum\n",
       "[1] 5.000006\n",
       "\n",
       "$objective\n",
       "[1] 21.05608\n"
      ]
     },
     "metadata": {},
     "output_type": "display_data"
    },
    {
     "data": {
      "image/png": "[encoded data removed]",
      "text/plain": [
       "plot without title"
      ]
     },
     "metadata": {},
     "output_type": "display_data"
    }
   ],
   "source": [
    "# Find the mode of a function\n",
    "h <- function(x) { x^5 * exp(-x) }\n",
    "result <- optimize(h, lower=0, upper=20, maximum=TRUE)\n",
    "result\n",
    "\n",
    "figsize(4, 4)\n",
    "plot(h, from=0, to=20)\n",
    "abline(v=result$maximum, col='red')"
   ]
  },
  {
   "cell_type": "code",
   "execution_count": 13,
   "metadata": {},
   "outputs": [
    {
     "data": {
      "text/html": [
       "11"
      ],
      "text/latex": [
       "11"
      ],
      "text/markdown": [
       "11"
      ],
      "text/plain": [
       "[1] 11"
      ]
     },
     "metadata": {},
     "output_type": "display_data"
    }
   ],
   "source": [
    "# For discrete r.v.s\n",
    "# Manually find the median via the CDF of Binomial distribution (pbinom)\n",
    "n <- 50; p <- 0.2\n",
    "x <- pbinom(0:n, n, p)\n",
    "which.max(x >= 0.5) # Select the half right region (CDF(X) >= 1/2), pick the first matching index\n",
    "# NOTE: the result is the index, not value. So, it's the index of the median, not the median\n",
    "# Since R indexing starts from 1 (not zero :|), the median should be 10"
   ]
  },
  {
   "cell_type": "code",
   "execution_count": 14,
   "metadata": {},
   "outputs": [
    {
     "data": {
      "text/html": [
       "10"
      ],
      "text/latex": [
       "10"
      ],
      "text/markdown": [
       "10"
      ],
      "text/plain": [
       "[1] 10"
      ]
     },
     "metadata": {},
     "output_type": "display_data"
    }
   ],
   "source": [
    "# Another approach, use the built-in median() function on the simulation data\n",
    "# Data is drawn by the function rbinom()\n",
    "x <- rbinom(10000, n, p)\n",
    "median(x)"
   ]
  },
  {
   "cell_type": "code",
   "execution_count": null,
   "metadata": {
    "collapsed": true
   },
   "outputs": [],
   "source": []
  }
 ],
 "metadata": {
  "kernelspec": {
   "display_name": "R",
   "language": "R",
   "name": "ir"
  },
  "language_info": {
   "codemirror_mode": "r",
   "file_extension": ".r",
   "mimetype": "text/x-r-source",
   "name": "R",
   "pygments_lexer": "r",
   "version": "3.4.1"
  }
 },
 "nbformat": 4,
 "nbformat_minor": 2
}
