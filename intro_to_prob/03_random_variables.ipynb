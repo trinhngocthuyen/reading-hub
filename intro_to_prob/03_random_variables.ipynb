{
 "cells": [
  {
   "cell_type": "markdown",
   "metadata": {},
   "source": [
    "# Intro to Probability\n",
    "https://www.amazon.com/Introduction-Probability-Chapman-Statistical-Science/dp/1466575573\n",
    "\n",
    "## Chap 3. Random variables"
   ]
  },
  {
   "cell_type": "markdown",
   "metadata": {},
   "source": [
    "### Terms/Highlights\n",
    "- A **random variable** is a *function* mapping the sample space $S$ to the real numbers $\\mathbb{R}$\n",
    "- **Support**: the set of values X could take, that have non-zero probability\n",
    "\n",
    "- **Discrete random variable**\n",
    "\n",
    "- The distribution of a discrete r.v could be represented by PMF or CDF\n",
    "\n",
    "- **Probability mass function (PMF)**\n",
    "  - For a discrete r.v\n",
    "  - $p_X(x) = P(X = x)$\n",
    "  - $p_X$ must satisfy 2 creteria: *non-negative* and *sum to 1*\n",
    "\n",
    "- **Bernoulli**\n",
    "  - Indicator of success in a Bernoulli trial\n",
    "  - $X \\sim Bern(p)$\n",
    "\n",
    "- **Binomial**\n",
    "  - Denotes the number of successes in $n$ independent Bernoulli trials\n",
    "  - $X \\sim Bin(n, p)$\n",
    "  - PMF: $P(X = k) = {n \\choose k} p^k q^{n-k}$ where $q = 1-p$\n",
    "\n",
    "- **Hypergeometric**\n",
    "  - Denotes the number of white balls in $n$ balls drawn (without replacement) from $w$ white balls and $b$ black balls\n",
    "  - $X \\sim HGeom(w, b, n)$\n",
    "  - PMF: $$P(X = k) = \\frac{{w \\choose k}{b \\choose n-k}}{w+b \\choose n}$$\n",
    "\n",
    "- **Discrete Uniform**\n",
    "  - $X \\sim DUnif(C)$\n",
    "  - PMF: $P(X = x) = \\frac{1}{\\left|C\\right|}$\n",
    "  \n",
    "- **Cumulative distribution function (CDF)**\n",
    "  - $F_X(x) = P(X \\le x)$\n",
    "  \n",
    "- *A function of a random variable is also a random variable*\n",
    "\n",
    "- 2 r.v.s $X$ and $Y$ are **independent** if $P(X \\le x, Y \\le y) = P(X \\le x) P(Y \\le y)$\n",
    "\n",
    "- **i.i.d** = **independent** + **identically distributed**\n",
    "  - Do not confuse *independent* with *identically distributed*\n",
    "\n",
    "- **Conditional independence**\n",
    "  - $P(X \\le x, Y \\le y | Z=z) = P(X \\le x | Z=z) P(Y \\le y | Z=z)$\n",
    "\n",
    "Connections between distributions\n",
    "\n",
    "- If $X_1, X_2, ..., X_n$ are i.i.d r.v.s, $X_i \\sim Bern(p)$.<br>\n",
    "Then $X = X_1+...+X_n \\sim Bin(n, p)$\n",
    "\n",
    "- If $X \\sim Bin(n, p), Y \\sim Bin(m, p)$.<br>\n",
    "Then $X + Y \\sim Bin(n + m, p)$\n",
    "\n",
    "- If $X \\sim Bin(n, p), Y \\sim Bin(m, p)$.<br>\n",
    "Then the conditional distribution of $X$ given $X + Y = r$ is $HGeom(n, m, r)$\n",
    "\n",
    "- If $X \\sim HGeom(w, b, n)$ and $N = w+b \\to \\infty$ such that $p=w/(w+b)$<br>\n",
    "Then the PMF of $X$ converges to $Bin(n, p)$\n",
    "  - Intuition: when $N$ is very large relative to the number of balls drawn, sampling with replacement or sampling without replacement is essentially equivalent"
   ]
  },
  {
   "cell_type": "code",
   "execution_count": null,
   "metadata": {
    "collapsed": true
   },
   "outputs": [],
   "source": []
  }
 ],
 "metadata": {
  "kernelspec": {
   "display_name": "R",
   "language": "R",
   "name": "ir"
  },
  "language_info": {
   "codemirror_mode": "r",
   "file_extension": ".r",
   "mimetype": "text/x-r-source",
   "name": "R",
   "pygments_lexer": "r",
   "version": "3.4.1"
  }
 },
 "nbformat": 4,
 "nbformat_minor": 2
}
