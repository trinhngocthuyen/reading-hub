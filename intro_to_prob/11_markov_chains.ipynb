{
 "cells": [
  {
   "cell_type": "markdown",
   "metadata": {},
   "source": [
    "# Intro to Probability\n",
    "https://www.amazon.com/Introduction-Probability-Chapman-Statistical-Science/dp/1466575573\n",
    "\n",
    "## Chap 11. Markov Chains"
   ]
  },
  {
   "cell_type": "markdown",
   "metadata": {},
   "source": [
    "### Terms/Highlights\n",
    "- **State space**\n",
    "- **Transition probability**: prob. of going from state $i$ to state $j$\n",
    "- **Markov property**: the current state only depends on the most recent state\n",
    "- **Transition matrix**: $Q$\n",
    "  - $q_{ij} = P(X_{n+1} = j \\;|\\; X_n = i)$\n",
    "- **n-step transition probability**: prob. of reaching state $j$ from state $i$ by exactly $n$ steps\n",
    "  - $q_{ij}^{(n)} = P(X_n = j \\;|\\; X_0 = i)$\n",
    "  - $q_{ij}^{(n)} = (Q^n)_{ij}$, (the entry $(i,j)$ of $Q^n$)\n",
    "- States of a Markov chain can be classified as **recurrent** or **transient**\n",
    "  - **Recurrent**: eventually revisited\n",
    "  - **Transient**: eventually abandoned\n",
    "- States can also be classified according to their periods\n",
    "  - **Aperiodic**: period is 1\n",
    "  - **Periodic**: otherwise\n",
    "- **Irreducible**: given any 2 states $i, j$, it's possible to go from $i$ to $j$ (with finite steps)\n",
    "  - Number of returns to transcient state $\\sim Geom(p)$\n",
    "  - Irreducible $\\implies$ all states are recurrent\n",
    "- **Stationary distribution**: is a PMF $s$ such that $sQ = s$\n",
    "  - Any *irreducible* has a *unique* stationary distribution\n",
    "  - The PMF of $X_n$ converges to $s$ as $n \\rightarrow \\infty$\n",
    "  - If state $i$ has stationary distribution $s_i$, then the expected time for the chain to return to $i$, starting from $i$ is $r_i = 1/s_i$\n",
    "- **Reversibility**: $s_i q_{ij} = s_j q_{ji}$. Or we say, the Markov chain is *reversible* with respect to $s$\n",
    "  - Reversibility implies *stationary*\n",
    "\n",
    "- 3 types of reversible chains:\n",
    "  - [1] If $Q$ is **doubly stochastic** (each row sums and column sums are 1), then $s$ is uniform over all states, \n",
    "  $$s_j = 1/M$$\n",
    "  - [2] If the chain is a **random walk** on an undirected graph, then\n",
    "  $$s_j = \\frac{d_j}{\\sum_i d_i}$$\n",
    "  - [3] If the chain is a **birth-death** chain, then\n",
    "  $$s_j = \\frac{s_1 q_{12} q_{23} ... q_{j-1, j}}{q_{j, j-1} q_{j-1, j-2} ... q_{21}}$$\n",
    "\n",
    "    *Birth-death* means: \n",
    "    - $q_{ij} > 0$ if $|i - j| = 1$\n",
    "    - $q_{ij} = 0$ if $|i - j| \\ge 2$\n",
    "  "
   ]
  },
  {
   "cell_type": "code",
   "execution_count": null,
   "metadata": {
    "collapsed": true
   },
   "outputs": [],
   "source": []
  }
 ],
 "metadata": {
  "kernelspec": {
   "display_name": "R",
   "language": "R",
   "name": "ir"
  },
  "language_info": {
   "codemirror_mode": "r",
   "file_extension": ".r",
   "mimetype": "text/x-r-source",
   "name": "R",
   "pygments_lexer": "r",
   "version": "3.4.1"
  }
 },
 "nbformat": 4,
 "nbformat_minor": 2
}
