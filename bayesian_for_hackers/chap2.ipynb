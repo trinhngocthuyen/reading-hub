{
 "cells": [
  {
   "cell_type": "markdown",
   "metadata": {
    "collapsed": true
   },
   "source": [
    "# Probabilistic Programming and Bayesian Methods for Hackers\n",
    "\n",
    "http://camdavidsonpilon.github.io/Probabilistic-Programming-and-Bayesian-Methods-for-Hackers\n",
    "\n",
    "## Chap 2: A little more on PyMC3\n",
    "\n",
    "### At a glance\n",
    "\n",
    "- ***PyMC3***: variables (stochastic vs. deterministic).\n",
    "- ***Theano***: just a glimpse of what it is, computational graph.\n",
    "- ***Distributions***: binomial distribution, normal distribution.\n",
    "- ***A simple process*** of modeling a problem. What questions should be asked?\n",
    "- ***A/B testing***: the author ultimately came to a conclusion that Bayesian analysis is more natural and could fit the case in which the observations of A and B are of different sample size.\n",
    "- ***Assess model***: not mentioned much. A plausible way is to compare the *observed data* and the *data simulated by the model*.\n",
    "- ***Misc***\n",
    "    - When using a model, should take into account *how wide the posterior distribution is*. In the \"space shuttle disaster\" example, the CI (credible interval) spreads out within the region 60-65 temperatures, giving us the insight that more tests should be performed with this range."
   ]
  },
  {
   "cell_type": "markdown",
   "metadata": {},
   "source": [
    "### Distributions\n",
    "\n",
    "#### Binomial distribution\n",
    "- Discrete variables\n",
    "- Short notation: $X \\sim Bin(N, p)$\n",
    "- Mass distribution: \n",
    "$$f(x\\;|\\;N) = {N \\choose x} p^x (1-p)^{N-x}$$\n",
    "- Properties:\n",
    "    - If $X_1, X_2, ..., X_N \\sim Ber(p)$, then $Z = X_1 + X_2 + ... + X_N \\sim Bin(N, p)$\n",
    "\n",
    "#### Normal distribution\n",
    "- Continuous variables\n",
    "- Density distribution: \n",
    "$$f(x\\;|\\;\\mu, \\tau) = \\sqrt{\\frac{\\tau}{2\\pi}} \\exp\\left( -\\frac{\\tau}{2} (x-\\mu)^2 \\right)$$\n",
    "where $\\tau = \\frac{1}{\\sigma^2}$\n",
    "- Properties:\n",
    "    - $E[X\\;|\\;\\mu, \\tau] = \\mu$\n",
    "    - $Var(X\\;|\\;\\mu, \\tau) = \\frac{1}{\\tau} = \\sigma^2$\n"
   ]
  },
  {
   "cell_type": "markdown",
   "metadata": {},
   "source": [
    "### Example: Cheating among students\n",
    "\n",
    "We want to know the frequency of students cheating during an exam. This algorithm below is designed to guarantee the confidentiality of students' answers (so that they feel safe enough to give honest responses). In other words, given an answer, we could not infer that he/she was cheating or not.\n",
    "\n",
    "#### Privacy algorithm\n",
    "\n",
    "- Flip the coin twice. Don't tell the interview which side appears.\n",
    "- If the first flip is HEAD, student should answer honestly.\n",
    "- Otherwise, if the second toss is HEAD, student answers *\"Yes, I did cheat\"*.\n",
    "- Otherwise (the second one turns TAIL), student gives the answer *\"No, I didn't\"*.\n",
    "\n",
    "In this way, the surveyor *has no idea whether the student is lying or not*. This is achieved by the **randomness** of the algorithm.\n",
    "\n",
    "P/s: this algorithm is proposed by the author, not a standard algorithm :). Other approaches could be adopted."
   ]
  },
  {
   "cell_type": "markdown",
   "metadata": {},
   "source": [
    "**Representation**\n",
    "\n",
    "- $p$: frequency of cheating.\n",
    "- $C_1$: rv., denotes which side appears in the 1st flip (1 if HEAD, otherwise 0)\n",
    "- $C_2$: rv., denotes which side appears in the 2nd flip (1 if HEAD, otherwise 0)\n",
    "- $T$: rv., denoting the honest answer when the 1st flip is HEAD, takes 1 if he/she says _\"yes\"_, otherwise 0.\n",
    "\n",
    "$\\rightarrow$ the final outcome which the interview receives: $X = C_1*T + (1-C_1)*C_2$\n",
    "\n",
    "**Distributions used for each random variable:**\n",
    "- $p \\sim Uniform(0, 1)$\n",
    "- $C_1 \\sim Ber(0.5)$ $\\leftarrow$ Assume $Pr(HEAD) = 0.5$\n",
    "- $C_2 \\sim Ber(0.5)$ $\\leftarrow$ Assume $Pr(HEAD) = 0.5$\n",
    "- $T \\sim Ber(p)$"
   ]
  },
  {
   "cell_type": "code",
   "execution_count": 1,
   "metadata": {
    "collapsed": true
   },
   "outputs": [],
   "source": [
    "import pymc3 as pm\n",
    "import theano.tensor as tt\n",
    "\n",
    "N = 100\n",
    "with pm.Model() as model:\n",
    "    p = pm.Uniform('freq_cheating', 0, 1) # Unknown\n",
    "    true_answers = pm.Bernoulli('truths', p, shape=N, testval=np.random.binomial(1, 0.5, N))\n",
    "    first_flips = pm.Bernoulli('first_flips', 0.5, shape=N, testval=np.random.binomial(1, 0.5, N))\n",
    "    second_flips = pm.Bernoulli(\"second_flips\", 0.5, shape=N, testval=np.random.binomial(1, 0.5, N))\n",
    "\n",
    "with model:\n",
    "    val = first_flips * true_answers + (1 - first_flips) * second_flips\n",
    "    observed_proportion = pm.Deterministic('observed_proportion', tt.sum(val) / N)\n",
    "\n",
    "X = 35 # observed data\n",
    "with model:\n",
    "    observations = pm.Binomial('obs', N, observed_proportion, observed=X)"
   ]
  },
  {
   "cell_type": "code",
   "execution_count": 2,
   "metadata": {
    "scrolled": false
   },
   "outputs": [
    {
     "name": "stderr",
     "output_type": "stream",
     "text": [
      "Assigned BinaryGibbsMetropolis to truths\n",
      "Assigned BinaryGibbsMetropolis to first_flips\n",
      "Assigned BinaryGibbsMetropolis to second_flips\n",
      "100%|██████████| 40500/40500 [17:05<00:00, 39.48it/s]\n"
     ]
    }
   ],
   "source": [
    "with model:\n",
    "    step = pm.Metropolis(vars=[p])\n",
    "    trace = pm.sample(40000, step=step)"
   ]
  },
  {
   "cell_type": "markdown",
   "metadata": {},
   "source": [
    "<span style=\"color:red\">**[!!!] It takes ~17mins to sample (with size: 40000)??? How prohibitive!**</span>"
   ]
  },
  {
   "cell_type": "code",
   "execution_count": 3,
   "metadata": {
    "scrolled": true
   },
   "outputs": [
    {
     "data": {
      "image/png": "[encoded data removed]",
      "text/plain": [
       "<matplotlib.figure.Figure at 0x10d531e10>"
      ]
     },
     "metadata": {
      "image/png": {
       "height": 195,
       "width": 479
      }
     },
     "output_type": "display_data"
    }
   ],
   "source": [
    "def visualize_freq_cheating(trace):\n",
    "    figsize(8, 3)\n",
    "    p_trace = trace['freq_cheating']\n",
    "    plt.hist(p_trace, histtype='stepfilled', normed=True, alpha=0.85, bins=30, \n",
    "             label='posterior distribution', color='#348ABD')\n",
    "    plt.vlines([.05, .35], [0, 0], [5, 5], alpha=0.3)\n",
    "    plt.xlim(0, 1)\n",
    "    plt.legend()\n",
    "    plt.show()\n",
    "\n",
    "visualize_freq_cheating(trace)"
   ]
  },
  {
   "cell_type": "markdown",
   "metadata": {},
   "source": [
    "**Alternative model**\n",
    "\n",
    "We could easily calculate the probability of getting *yes response*: $p_X = 0.5 * p + 0.5 * 0.5 = 0.5p + 0.25$.\n",
    "\n",
    "So our model is now simpler:\n",
    "- $X ~ Ber(p_X) = Ber(0.5p + 0.25)$"
   ]
  },
  {
   "cell_type": "code",
   "execution_count": 4,
   "metadata": {},
   "outputs": [
    {
     "name": "stderr",
     "output_type": "stream",
     "text": [
      "100%|██████████| 40500/40500 [00:04<00:00, 9189.10it/s]\n"
     ]
    }
   ],
   "source": [
    "with pm.Model() as model:\n",
    "    p = pm.Uniform('freq_cheating', 0, 1) # Unknown\n",
    "    p_skewed = pm.Deterministic('p_skewed', 0.5*p + 0.25)\n",
    "\n",
    "X = 35 # observed data\n",
    "with model:\n",
    "    yes_responses = pm.Binomial('num_cheaters', N, p_skewed, observed=X)\n",
    "\n",
    "with model:\n",
    "    step = pm.Metropolis()\n",
    "    trace_2 = pm.sample(40000, step=step)"
   ]
  },
  {
   "cell_type": "code",
   "execution_count": 5,
   "metadata": {
    "scrolled": true
   },
   "outputs": [
    {
     "data": {
      "image/png": "[encoded data removed]",
      "text/plain": [
       "<matplotlib.figure.Figure at 0x112925a20>"
      ]
     },
     "metadata": {
      "image/png": {
       "height": 195,
       "width": 479
      }
     },
     "output_type": "display_data"
    }
   ],
   "source": [
    "visualize_freq_cheating(trace_2)"
   ]
  },
  {
   "cell_type": "markdown",
   "metadata": {
    "collapsed": true
   },
   "source": [
    "Note: *Results from the two models above are the same to a certain point. Though it takes a huge amount of time to sample the former (17mins as compared to 4s)*"
   ]
  },
  {
   "cell_type": "code",
   "execution_count": null,
   "metadata": {
    "collapsed": true
   },
   "outputs": [],
   "source": []
  }
 ],
 "metadata": {
  "kernelspec": {
   "display_name": "Python 3",
   "language": "python",
   "name": "python3"
  },
  "language_info": {
   "codemirror_mode": {
    "name": "ipython",
    "version": 3
   },
   "file_extension": ".py",
   "mimetype": "text/x-python",
   "name": "python",
   "nbconvert_exporter": "python",
   "pygments_lexer": "ipython3",
   "version": "3.6.0"
  }
 },
 "nbformat": 4,
 "nbformat_minor": 1
}