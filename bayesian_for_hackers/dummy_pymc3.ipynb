{
 "cells": [
  {
   "cell_type": "code",
   "execution_count": 5,
   "metadata": {
    "collapsed": true
   },
   "outputs": [],
   "source": [
    "import numpy as np\n",
    "import pymc3 as pm\n",
    "import theano.tensor as tt\n",
    "import matplotlib.pyplot as plt\n",
    "plt.style.use('seaborn')"
   ]
  },
  {
   "cell_type": "code",
   "execution_count": 6,
   "metadata": {},
   "outputs": [
    {
     "data": {
      "image/png": "[encoded data removed]",
      "text/plain": [
       "<matplotlib.figure.Figure at 0x1058eccf8>"
      ]
     },
     "metadata": {},
     "output_type": "display_data"
    }
   ],
   "source": [
    "N = 300\n",
    "data_X = np.random.normal(loc=3, scale=1.2, size=N)\n",
    "\n",
    "plt.hist(data_X, bins=50, histtype='stepfilled', normed=True)\n",
    "plt.show()"
   ]
  },
  {
   "cell_type": "code",
   "execution_count": 7,
   "metadata": {},
   "outputs": [
    {
     "name": "stderr",
     "output_type": "stream",
     "text": [
      "100%|██████████| 10500/10500 [00:02<00:00, 3875.51it/s]\n"
     ]
    }
   ],
   "source": [
    "# Model:\n",
    "with pm.Model() as model:\n",
    "    mu = pm.Uniform('mu', lower=0, upper=10)\n",
    "    sigma = pm.Uniform('sigma', lower=0, upper=10)\n",
    "    observation = pm.Normal('observation', mu=mu, tau=1./sigma**2, observed=data_X)\n",
    "    \n",
    "with model:\n",
    "    # start = pm.find_MAP()\n",
    "    step = pm.Metropolis(vars=[mu, sigma, observation])\n",
    "    trace = pm.sample(10000, step=step)"
   ]
  },
  {
   "cell_type": "code",
   "execution_count": 9,
   "metadata": {},
   "outputs": [
    {
     "name": "stdout",
     "output_type": "stream",
     "text": [
      "['mu_interval__', 'sigma_interval__', 'mu', 'sigma']\n",
      "3.03875552661\n",
      "1.14284923606\n"
     ]
    }
   ],
   "source": [
    "trace_mu = trace['mu']\n",
    "trace_sigma = trace['sigma']\n",
    "# trace_observation = trace['observation']\n",
    "\n",
    "print(trace.varnames)\n",
    "print(trace_mu.mean())\n",
    "print(trace_sigma.mean())"
   ]
  },
  {
   "cell_type": "code",
   "execution_count": null,
   "metadata": {
    "collapsed": true
   },
   "outputs": [],
   "source": []
  }
 ],
 "metadata": {
  "kernelspec": {
   "display_name": "Python 3",
   "language": "python",
   "name": "python3"
  },
  "language_info": {
   "codemirror_mode": {
    "name": "ipython",
    "version": 3
   },
   "file_extension": ".py",
   "mimetype": "text/x-python",
   "name": "python",
   "nbconvert_exporter": "python",
   "pygments_lexer": "ipython3",
   "version": "3.6.4"
  }
 },
 "nbformat": 4,
 "nbformat_minor": 2
}
